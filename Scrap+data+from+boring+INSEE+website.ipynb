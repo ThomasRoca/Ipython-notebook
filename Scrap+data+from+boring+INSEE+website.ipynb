{
 "cells": [
  {
   "cell_type": "markdown",
   "metadata": {},
   "source": [
    "## Looking for revenu information by arrondissemnt using boring INSEE website\n",
    "\n",
    "Challenge: We would like to collect \"Médiane du revenu disponible par unité de consommation\" by arrondissement of paris. \n",
    "The French NSO provide this information on its web site by arrondissement (1 to 20 of them)\n",
    "https://www.insee.fr/fr/statistiques/1405599?geo=COM-75101\n",
    "https://www.insee.fr/fr/statistiques/1405599?geo=COM-75120\n",
    "\n",
    "So to avoid clicking 20 times and spend 20 minutes to find the information, lets use python and write some code (I wont disclose here the time it tooks me to write it, its the not point right ;)\n",
    "\n",
    "Usual tools, beautiful soup and regular expression:"
   ]
  },
  {
   "cell_type": "code",
   "execution_count": 2,
   "metadata": {
    "collapsed": false
   },
   "outputs": [
    {
     "name": "stderr",
     "output_type": "stream",
     "text": [
      "C:\\Python34\\lib\\site-packages\\bs4\\__init__.py:181: UserWarning: No parser was explicitly specified, so I'm using the best available HTML parser for this system (\"lxml\"). This usually isn't a problem, but if you run this code on another system, or in a different virtual environment, it may use a different parser and behave differently.\n",
      "\n",
      "The code that caused this warning is on line 170 of the file C:\\Python34\\lib\\runpy.py. To get rid of this warning, change code that looks like this:\n",
      "\n",
      " BeautifulSoup(YOUR_MARKUP})\n",
      "\n",
      "to this:\n",
      "\n",
      " BeautifulSoup(YOUR_MARKUP, \"lxml\")\n",
      "\n",
      "  markup_type=markup_type))\n"
     ]
    },
    {
     "name": "stdout",
     "output_type": "stream",
     "text": [
      "Median income per consumption unit in Arrondissement n°01= 318047\n",
      "Median income per consumption unit in Arrondissement n°02= 286640\n",
      "Median income per consumption unit in Arrondissement n°03= 303220\n",
      "Median income per consumption unit in Arrondissement n°04= 302995\n",
      "Median income per consumption unit in Arrondissement n°05= 323360\n",
      "Median income per consumption unit in Arrondissement n°06= 390790\n",
      "Median income per consumption unit in Arrondissement n°07= 416762\n",
      "Median income per consumption unit in Arrondissement n°08= 401407\n",
      "Median income per consumption unit in Arrondissement n°09= 321670\n",
      "Median income per consumption unit in Arrondissement n°10= 242429\n",
      "Median income per consumption unit in Arrondissement n°11= 256204\n",
      "Median income per consumption unit in Arrondissement n°12= 264778\n",
      "Median income per consumption unit in Arrondissement n°13= 229938\n",
      "Median income per consumption unit in Arrondissement n°14= 268210\n",
      "Median income per consumption unit in Arrondissement n°15= 302030\n",
      "Median income per consumption unit in Arrondissement n°16= 386790\n",
      "Median income per consumption unit in Arrondissement n°17= 293957\n",
      "Median income per consumption unit in Arrondissement n°18= 202465\n",
      "Median income per consumption unit in Arrondissement n°19= 186094\n",
      "Median income per consumption unit in Arrondissement n°20= 200767\n"
     ]
    }
   ],
   "source": [
    "from urllib.request import urlopen\n",
    "from bs4 import BeautifulSoup\n",
    "import re\n",
    "for i in range(1,21):\n",
    "    if i<10: \n",
    "        arrondissement=\"0\"+str(i)\n",
    "    else:\n",
    "        arrondissement=str(i)\n",
    "        \n",
    "    url= 'https://www.insee.fr/fr/statistiques/1405599?geo=COM-751'+arrondissement\n",
    "    html=urlopen(url).read()\n",
    "    soup=BeautifulSoup(html)\n",
    "\n",
    "    lookfor='Médiane du revenu disponible par unité de consommation en 2013, en euros'\n",
    "    table = soup.find(\"table\")\n",
    "    for row in table.findAll(\"tr\"):\n",
    "        test=str(row.find_all('th', attrs={'class': 'ligne'}))\n",
    "        if lookfor in test: \n",
    "            number=re.sub(\"[^0-9]\", \"\", str(row.find_all('td')))\n",
    "            print('Median income per consumption unit in Arrondissement n°'+arrondissement+\"= \"+number)\n",
    "   "
   ]
  },
  {
   "cell_type": "code",
   "execution_count": null,
   "metadata": {
    "collapsed": true
   },
   "outputs": [],
   "source": []
  }
 ],
 "metadata": {
  "kernelspec": {
   "display_name": "Python 3",
   "language": "python",
   "name": "python3"
  },
  "language_info": {
   "codemirror_mode": {
    "name": "ipython",
    "version": 3
   },
   "file_extension": ".py",
   "mimetype": "text/x-python",
   "name": "python",
   "nbconvert_exporter": "python",
   "pygments_lexer": "ipython3",
   "version": "3.4.4"
  }
 },
 "nbformat": 4,
 "nbformat_minor": 2
}
