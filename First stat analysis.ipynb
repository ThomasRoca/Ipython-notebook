{
 "cells": [
  {
   "cell_type": "markdown",
   "metadata": {},
   "source": [
    "## Presentation Beta, statistical analysis *by Thomas Roca*\n",
    "\n",
    "This presentation has been prepared using Ipython notebook, love it"
   ]
  },
  {
   "cell_type": "code",
   "execution_count": 2,
   "metadata": {
    "collapsed": false
   },
   "outputs": [
    {
     "name": "stdout",
     "output_type": "stream",
     "text": [
      "     code iso3  year    HDI  NY_GDP_PCAP_PP_CD  SP_POP_TOTL  gdp_growth  \\\n",
      "0       1  AFG  2011  0.458          1695.1534     29105480    6.113685   \n",
      "1       1  AFG  2012  0.466          1926.1720     29824536   14.434741   \n",
      "2       1  AFG  2013  0.468          1989.6133     30551674    1.934143   \n",
      "3       2  ALB  2011  0.714         10115.6300      2829337    2.545359   \n",
      "4       2  ALB  2012  0.714         10154.4850      2801681    1.623699   \n",
      "5       2  ALB  2013  0.716         10488.8220      2773620    1.417423   \n",
      "6       3  DZA  2011  0.715         12605.7710     37762962    2.800018   \n",
      "7       3  DZA  2012  0.715         13001.9520     38481705    3.299991   \n",
      "8       3  DZA  2013  0.717         13304.0120     39208194    2.800000   \n",
      "9       6  AGO  2011  0.521          7094.0840     20180490    3.918597   \n",
      "10      6  AGO  2012  0.524          7359.2295     20820525    5.155440   \n",
      "11      6  AGO  2013  0.526          7538.1914     21471618    6.800058   \n",
      "12      8  ARG  2011  0.804                NaN     40728738    8.554913   \n",
      "13      8  ARG  2012  0.806                NaN     41086927    0.946197   \n",
      "14      8  ARG  2013  0.808                NaN     41446246    2.925272   \n",
      "15      9  ARM  2011  0.724          6812.3521      2964120    4.700000   \n",
      "16      9  ARM  2012  0.728          7418.1001      2969081    7.200000   \n",
      "17      9  ARM  2013  0.730          7774.3848      2976566    3.500000   \n",
      "18     11  AUS  2011  0.928         41670.6250     22340000    2.321479   \n",
      "19     11  AUS  2012  0.931         42815.6600     22723900    3.727818   \n",
      "20     11  AUS  2013  0.933         43550.0820     23130900    2.511938   \n",
      "21     12  AUT  2011  0.879         42887.6880      8406187    3.071427   \n",
      "22     12  AUT  2012  0.880         43253.8200      8429991    0.883845   \n",
      "23     12  AUT  2013  0.881         44167.5160      8473786    0.228020   \n",
      "24     13  AZE  2011  0.743         15754.1520      9173082    0.065923   \n",
      "25     13  AZE  2012  0.745         16165.9890      9295784    2.200000   \n",
      "26     13  AZE  2013  0.747         17139.2870      9416598    5.796679   \n",
      "27     15  BHR  2011  0.812         40083.3790      1292764    2.100184   \n",
      "28     15  BHR  2012  0.813         41368.6130      1317827    3.588705   \n",
      "29     15  BHR  2013  0.815         43823.5080      1332171    5.337539   \n",
      "..    ...  ...   ...    ...                ...          ...         ...   \n",
      "441   205  USA  2011  0.911         49854.5230    311582564    1.602019   \n",
      "442   205  USA  2012  0.912         51755.2150    313873685    2.317374   \n",
      "443   205  USA  2013  0.914         53142.8910    316128839    2.221387   \n",
      "444   206  URY  2011  0.783         17644.9770      3383486    7.341184   \n",
      "445   206  URY  2012  0.787         18548.9860      3395253    3.676367   \n",
      "446   206  URY  2013  0.790         19589.5780      3407062    4.396597   \n",
      "447   207  UZB  2011  0.653          4412.4741     29339400    8.300000   \n",
      "448   207  UZB  2012  0.657          4786.7778     29774500    8.200000   \n",
      "449   207  UZB  2013  0.661          5167.0225     30241100    7.999989   \n",
      "450   209  VEN  2011  0.761         16959.8440     29500625    4.175029   \n",
      "451   209  VEN  2012  0.763         17950.8890     29954782    5.626268   \n",
      "452   209  VEN  2013  0.764         18193.9200     30405207    1.343451   \n",
      "453   210  VNM  2011  0.632          4716.9761     87840000    6.240303   \n",
      "454   210  VNM  2012  0.635          4998.2036     88772900    5.247367   \n",
      "455   210  VNM  2013  0.638          5293.1807     89708900    5.421344   \n",
      "456   212  PSE  2011  0.679          4071.2405      3927051    7.892980   \n",
      "457   212  PSE  2012  0.683          4575.9604      4046901   14.300087   \n",
      "458   212  PSE  2013  0.686                NaN      4169506   -4.428893   \n",
      "459   213  YEM  2011  0.497          3760.6711     23304206  -15.088393   \n",
      "460   213  YEM  2012  0.499          3830.8110     23852409    2.469878   \n",
      "461   213  YEM  2013  0.500          3958.3240     24407381    4.155705   \n",
      "462   214  ZMB  2011  0.543          2878.3071     13633796    6.338446   \n",
      "463   214  ZMB  2012  0.554          3043.0403     14075099    6.730574   \n",
      "464   214  ZMB  2013  0.561          3180.6011     14538640    6.713450   \n",
      "465   215  ZWE  2011  0.473          1625.9119     13358738   11.905408   \n",
      "466   215  ZWE  2012  0.484          1695.8942     13724317   10.565205   \n",
      "467   215  ZWE  2013  0.492          1700.0167     14149648    4.484095   \n",
      "468   218  TWN  2011    NaN                NaN          NaN         NaN   \n",
      "469   218  TWN  2012    NaN                NaN          NaN         NaN   \n",
      "470   218  TWN  2013    NaN                NaN          NaN         NaN   \n",
      "\n",
      "        sqHDI  \n",
      "0    0.209764  \n",
      "1    0.217156  \n",
      "2    0.219024  \n",
      "3    0.509796  \n",
      "4    0.509796  \n",
      "5    0.512656  \n",
      "6    0.511225  \n",
      "7    0.511225  \n",
      "8    0.514089  \n",
      "9    0.271441  \n",
      "10   0.274576  \n",
      "11   0.276676  \n",
      "12   0.646416  \n",
      "13   0.649636  \n",
      "14   0.652864  \n",
      "15   0.524176  \n",
      "16   0.529984  \n",
      "17   0.532900  \n",
      "18   0.861184  \n",
      "19   0.866761  \n",
      "20   0.870489  \n",
      "21   0.772641  \n",
      "22   0.774400  \n",
      "23   0.776161  \n",
      "24   0.552049  \n",
      "25   0.555025  \n",
      "26   0.558009  \n",
      "27   0.659344  \n",
      "28   0.660969  \n",
      "29   0.664225  \n",
      "..        ...  \n",
      "441  0.829921  \n",
      "442  0.831744  \n",
      "443  0.835396  \n",
      "444  0.613089  \n",
      "445  0.619369  \n",
      "446  0.624100  \n",
      "447  0.426409  \n",
      "448  0.431649  \n",
      "449  0.436921  \n",
      "450  0.579121  \n",
      "451  0.582169  \n",
      "452  0.583696  \n",
      "453  0.399424  \n",
      "454  0.403225  \n",
      "455  0.407044  \n",
      "456  0.461041  \n",
      "457  0.466489  \n",
      "458  0.470596  \n",
      "459  0.247009  \n",
      "460  0.249001  \n",
      "461  0.250000  \n",
      "462  0.294849  \n",
      "463  0.306916  \n",
      "464  0.314721  \n",
      "465  0.223729  \n",
      "466  0.234256  \n",
      "467  0.242064  \n",
      "468       NaN  \n",
      "469       NaN  \n",
      "470       NaN  \n",
      "\n",
      "[471 rows x 8 columns]\n"
     ]
    }
   ],
   "source": [
    "from __future__ import print_function\n",
    "import numpy as np\n",
    "import statsmodels.api as sm\n",
    "from statsmodels.sandbox.regression.predstd import wls_prediction_std\n",
    "from pandas import DataFrame, read_csv\n",
    "# General syntax to import a library but no functions: \n",
    "##import (library) as (give the library a nickname/alias)\n",
    "import matplotlib.pyplot as plt\n",
    "import pandas as pd #this is how I usually import pandas\n",
    "import sys #only needed to determine Python version number\n",
    "import numpy as np\n",
    "\n",
    "# Enable inline plotting\n",
    "%matplotlib inline\n",
    "\n",
    "#read the data\n",
    "Location = r'D:\\Thomas\\Desktop\\dataX.csv'\n",
    "data = pd.read_csv(Location)\n",
    "\n",
    "#create HDI square\n",
    "data['sqHDI'] =data.HDI*data.HDI\n",
    "print(data)"
   ]
  },
  {
   "cell_type": "markdown",
   "metadata": {},
   "source": [
    "## First: some scatter plots"
   ]
  },
  {
   "cell_type": "code",
   "execution_count": 3,
   "metadata": {
    "collapsed": false
   },
   "outputs": [],
   "source": [
    "from bokeh.plotting import *\n",
    "output_file(\"plot.html\", title=\"Plot example\")\n",
    "p = figure(title = \"HDI vs. sqHDI\", x_axis_label='HDI', y_axis_label='sqHDI') \n",
    "p.circle(data.HDI,data.sqHDI)\n",
    "show(p)\n",
    "\n",
    "output_file(\"plot2.html\", title=\"Plot example 2\")\n",
    "p = figure(title = \"HDI vs. GDP\", x_axis_label='HDI', y_axis_label='GDP Per Capita PP current$') \n",
    "p.circle(data.HDI,data.NY_GDP_PCAP_PP_CD)\n",
    "show(p)\n"
   ]
  },
  {
   "cell_type": "markdown",
   "metadata": {},
   "source": [
    "Our model :"
   ]
  },
  {
   "cell_type": "code",
   "execution_count": 72,
   "metadata": {
    "collapsed": false
   },
   "outputs": [],
   "source": [
    "X = sm.add_constant(X)\n",
    "y = np.dot(X, beta) + e"
   ]
  },
  {
   "cell_type": "markdown",
   "metadata": {},
   "source": [
    "Fit and summary:"
   ]
  },
  {
   "cell_type": "code",
   "execution_count": 71,
   "metadata": {
    "collapsed": false
   },
   "outputs": [
    {
     "name": "stdout",
     "output_type": "stream",
     "text": [
      "                            OLS Regression Results                            \n",
      "==============================================================================\n",
      "Dep. Variable:                    HDI   R-squared:                         nan\n",
      "Model:                            OLS   Adj. R-squared:                    nan\n",
      "Method:                 Least Squares   F-statistic:                       nan\n",
      "Date:                Sun, 26 Apr 2015   Prob (F-statistic):                nan\n",
      "Time:                        00:01:44   Log-Likelihood:                    nan\n",
      "No. Observations:                 471   AIC:                               nan\n",
      "Df Residuals:                     471   BIC:                               nan\n",
      "Df Model:                          -1                                         \n",
      "Covariance Type:            nonrobust                                         \n",
      "=====================================================================================\n",
      "                        coef    std err          t      P>|t|      [95.0% Conf. Int.]\n",
      "-------------------------------------------------------------------------------------\n",
      "NY_GDP_PCAP_PP_CD        nan        nan        nan        nan           nan       nan\n",
      "==============================================================================\n",
      "Omnibus:                          nan   Durbin-Watson:                     nan\n",
      "Prob(Omnibus):                    nan   Jarque-Bera (JB):                  nan\n",
      "Skew:                             nan   Prob(JB):                          nan\n",
      "Kurtosis:                         nan   Cond. No.                          nan\n",
      "==============================================================================\n",
      "\n",
      "Warnings:\n",
      "[1] Standard Errors assume that the covariance matrix of the errors is correctly specified.\n"
     ]
    }
   ],
   "source": [
    "model = sm.OLS(y, X)\n",
    "results = model.fit()\n",
    "print(results.summary())"
   ]
  },
  {
   "cell_type": "markdown",
   "metadata": {},
   "source": [
    "Quantities of interest can be extracted directly from the fitted model. Type ``dir(results)`` for a full list. Here are some examples:  "
   ]
  },
  {
   "cell_type": "code",
   "execution_count": 5,
   "metadata": {
    "collapsed": false
   },
   "outputs": [
    {
     "name": "stdout",
     "output_type": "stream",
     "text": [
      "Parameters:  [  1.34233516  -0.04024948  10.01025357]\n",
      "R2:  0.999987936503\n"
     ]
    }
   ],
   "source": [
    "print('Parameters: ', results.params)\n",
    "print('R2: ', results.rsquared)"
   ]
  },
  {
   "cell_type": "markdown",
   "metadata": {},
   "source": [
    "## OLS non-linear curve but linear in parameters\n",
    "\n",
    "We simulate artificial data with a non-linear relationship between x and y:"
   ]
  },
  {
   "cell_type": "code",
   "execution_count": 6,
   "metadata": {
    "collapsed": false
   },
   "outputs": [],
   "source": [
    "nsample = 50\n",
    "sig = 0.5\n",
    "x = np.linspace(0, 20, nsample)\n",
    "X = np.column_stack((x, np.sin(x), (x-5)**2, np.ones(nsample)))\n",
    "beta = [0.5, 0.5, -0.02, 5.]\n",
    "\n",
    "y_true = np.dot(X, beta)\n",
    "y = y_true + sig * np.random.normal(size=nsample)"
   ]
  },
  {
   "cell_type": "markdown",
   "metadata": {},
   "source": [
    "Fit and summary:"
   ]
  },
  {
   "cell_type": "code",
   "execution_count": 7,
   "metadata": {
    "collapsed": false
   },
   "outputs": [
    {
     "name": "stdout",
     "output_type": "stream",
     "text": [
      "                            OLS Regression Results                            \n",
      "==============================================================================\n",
      "Dep. Variable:                      y   R-squared:                       0.933\n",
      "Model:                            OLS   Adj. R-squared:                  0.928\n",
      "Method:                 Least Squares   F-statistic:                     211.8\n",
      "Date:                Sat, 25 Apr 2015   Prob (F-statistic):           6.30e-27\n",
      "Time:                        20:08:56   Log-Likelihood:                -34.438\n",
      "No. Observations:                  50   AIC:                             76.88\n",
      "Df Residuals:                      46   BIC:                             84.52\n",
      "Df Model:                           3                                         \n",
      "Covariance Type:            nonrobust                                         \n",
      "==============================================================================\n",
      "                 coef    std err          t      P>|t|      [95.0% Conf. Int.]\n",
      "------------------------------------------------------------------------------\n",
      "x1             0.4687      0.026     17.751      0.000         0.416     0.522\n",
      "x2             0.4836      0.104      4.659      0.000         0.275     0.693\n",
      "x3            -0.0174      0.002     -7.507      0.000        -0.022    -0.013\n",
      "const          5.2058      0.171     30.405      0.000         4.861     5.550\n",
      "==============================================================================\n",
      "Omnibus:                        0.655   Durbin-Watson:                   2.896\n",
      "Prob(Omnibus):                  0.721   Jarque-Bera (JB):                0.360\n",
      "Skew:                           0.207   Prob(JB):                        0.835\n",
      "Kurtosis:                       3.026   Cond. No.                         221.\n",
      "==============================================================================\n",
      "\n",
      "Warnings:\n",
      "[1] Standard Errors assume that the covariance matrix of the errors is correctly specified.\n"
     ]
    }
   ],
   "source": [
    "res = sm.OLS(y, X).fit()\n",
    "print(res.summary())"
   ]
  },
  {
   "cell_type": "markdown",
   "metadata": {},
   "source": [
    "Extract other quantities of interest:"
   ]
  },
  {
   "cell_type": "code",
   "execution_count": null,
   "metadata": {
    "collapsed": false
   },
   "outputs": [],
   "source": [
    "print('Parameters: ', res.params)\n",
    "print('Standard errors: ', res.bse)\n",
    "print('Predicted values: ', res.predict())"
   ]
  },
  {
   "cell_type": "markdown",
   "metadata": {},
   "source": [
    "Draw a plot to compare the true relationship to OLS predictions. Confidence intervals around the predictions are built using the ``wls_prediction_std`` command."
   ]
  },
  {
   "cell_type": "code",
   "execution_count": null,
   "metadata": {
    "collapsed": false
   },
   "outputs": [],
   "source": [
    "prstd, iv_l, iv_u = wls_prediction_std(res)\n",
    "\n",
    "fig, ax = plt.subplots(figsize=(8,6))\n",
    "\n",
    "ax.plot(x, y, 'o', label=\"data\")\n",
    "ax.plot(x, y_true, 'b-', label=\"True\")\n",
    "ax.plot(x, res.fittedvalues, 'r--.', label=\"OLS\")\n",
    "ax.plot(x, iv_u, 'r--')\n",
    "ax.plot(x, iv_l, 'r--')\n",
    "ax.legend(loc='best');"
   ]
  },
  {
   "cell_type": "markdown",
   "metadata": {},
   "source": [
    "## OLS with dummy variables\n",
    "\n",
    "We generate some artificial data. There are 3 groups which will be modelled using dummy variables. Group 0 is the omitted/benchmark category."
   ]
  },
  {
   "cell_type": "code",
   "execution_count": null,
   "metadata": {
    "collapsed": false
   },
   "outputs": [],
   "source": [
    "nsample = 50\n",
    "groups = np.zeros(nsample, int)\n",
    "groups[20:40] = 1\n",
    "groups[40:] = 2\n",
    "#dummy = (groups[:,None] == np.unique(groups)).astype(float)\n",
    "\n",
    "dummy = sm.categorical(groups, drop=True)\n",
    "x = np.linspace(0, 20, nsample)\n",
    "# drop reference category\n",
    "X = np.column_stack((x, dummy[:,1:]))\n",
    "X = sm.add_constant(X, prepend=False)\n",
    "\n",
    "beta = [1., 3, -3, 10]\n",
    "y_true = np.dot(X, beta)\n",
    "e = np.random.normal(size=nsample)\n",
    "y = y_true + e"
   ]
  },
  {
   "cell_type": "markdown",
   "metadata": {},
   "source": [
    "Inspect the data:"
   ]
  },
  {
   "cell_type": "code",
   "execution_count": null,
   "metadata": {
    "collapsed": false
   },
   "outputs": [],
   "source": [
    "print(X[:5,:])\n",
    "print(y[:5])\n",
    "print(groups)\n",
    "print(dummy[:5,:])"
   ]
  },
  {
   "cell_type": "markdown",
   "metadata": {},
   "source": [
    "Fit and summary:"
   ]
  },
  {
   "cell_type": "code",
   "execution_count": null,
   "metadata": {
    "collapsed": false
   },
   "outputs": [],
   "source": [
    "res2 = sm.OLS(y, X).fit()\n",
    "print(res.summary())"
   ]
  },
  {
   "cell_type": "markdown",
   "metadata": {},
   "source": [
    "Draw a plot to compare the true relationship to OLS predictions:"
   ]
  },
  {
   "cell_type": "code",
   "execution_count": null,
   "metadata": {
    "collapsed": false
   },
   "outputs": [],
   "source": [
    "prstd, iv_l, iv_u = wls_prediction_std(res2)\n",
    "\n",
    "fig, ax = plt.subplots(figsize=(8,6))\n",
    "\n",
    "ax.plot(x, y, 'o', label=\"Data\")\n",
    "ax.plot(x, y_true, 'b-', label=\"True\")\n",
    "ax.plot(x, res2.fittedvalues, 'r--.', label=\"Predicted\")\n",
    "ax.plot(x, iv_u, 'r--')\n",
    "ax.plot(x, iv_l, 'r--')\n",
    "legend = ax.legend(loc=\"best\")"
   ]
  },
  {
   "cell_type": "markdown",
   "metadata": {},
   "source": [
    "## Joint hypothesis test\n",
    "\n",
    "### F test\n",
    "\n",
    "We want to test the hypothesis that both coefficients on the dummy variables are equal to zero, that is, $R \\times \\beta = 0$. An F test leads us to strongly reject the null hypothesis of identical constant in the 3 groups:"
   ]
  },
  {
   "cell_type": "code",
   "execution_count": null,
   "metadata": {
    "collapsed": false
   },
   "outputs": [],
   "source": [
    "R = [[0, 1, 0, 0], [0, 0, 1, 0]]\n",
    "print(np.array(R))\n",
    "print(res2.f_test(R))"
   ]
  },
  {
   "cell_type": "markdown",
   "metadata": {},
   "source": [
    "You can also use formula-like syntax to test hypotheses"
   ]
  },
  {
   "cell_type": "code",
   "execution_count": null,
   "metadata": {
    "collapsed": false
   },
   "outputs": [],
   "source": [
    "print(res2.f_test(\"x2 = x3 = 0\"))"
   ]
  },
  {
   "cell_type": "markdown",
   "metadata": {},
   "source": [
    "### Small group effects\n",
    "\n",
    "If we generate artificial data with smaller group effects, the T test can no longer reject the Null hypothesis: "
   ]
  },
  {
   "cell_type": "code",
   "execution_count": null,
   "metadata": {
    "collapsed": false
   },
   "outputs": [],
   "source": [
    "beta = [1., 0.3, -0.0, 10]\n",
    "y_true = np.dot(X, beta)\n",
    "y = y_true + np.random.normal(size=nsample)\n",
    "\n",
    "res3 = sm.OLS(y, X).fit()"
   ]
  },
  {
   "cell_type": "code",
   "execution_count": null,
   "metadata": {
    "collapsed": false
   },
   "outputs": [],
   "source": [
    "print(res3.f_test(R))"
   ]
  },
  {
   "cell_type": "code",
   "execution_count": null,
   "metadata": {
    "collapsed": false
   },
   "outputs": [],
   "source": [
    "print(res3.f_test(\"x2 = x3 = 0\"))"
   ]
  },
  {
   "cell_type": "markdown",
   "metadata": {},
   "source": [
    "### Multicollinearity\n",
    "\n",
    "The Longley dataset is well known to have high multicollinearity. That is, the exogenous predictors are highly correlated. This is problematic because it can affect the stability of our coefficient estimates as we make minor changes to model specification. "
   ]
  },
  {
   "cell_type": "code",
   "execution_count": 8,
   "metadata": {
    "collapsed": false
   },
   "outputs": [],
   "source": [
    "from statsmodels.datasets.longley import load_pandas\n",
    "y = load_pandas().endog\n",
    "X = load_pandas().exog\n",
    "X = sm.add_constant(X)"
   ]
  },
  {
   "cell_type": "markdown",
   "metadata": {},
   "source": [
    "Fit and summary:"
   ]
  },
  {
   "cell_type": "code",
   "execution_count": 9,
   "metadata": {
    "collapsed": false
   },
   "outputs": [
    {
     "name": "stdout",
     "output_type": "stream",
     "text": [
      "                            OLS Regression Results                            \n",
      "==============================================================================\n",
      "Dep. Variable:                 TOTEMP   R-squared:                       0.995\n",
      "Model:                            OLS   Adj. R-squared:                  0.992\n",
      "Method:                 Least Squares   F-statistic:                     330.3\n",
      "Date:                Sat, 25 Apr 2015   Prob (F-statistic):           4.98e-10\n",
      "Time:                        20:09:17   Log-Likelihood:                -109.62\n",
      "No. Observations:                  16   AIC:                             233.2\n",
      "Df Residuals:                       9   BIC:                             238.6\n",
      "Df Model:                           6                                         \n",
      "Covariance Type:            nonrobust                                         \n",
      "==============================================================================\n",
      "                 coef    std err          t      P>|t|      [95.0% Conf. Int.]\n",
      "------------------------------------------------------------------------------\n",
      "const      -3.482e+06    8.9e+05     -3.911      0.004      -5.5e+06 -1.47e+06\n",
      "GNPDEFL       15.0619     84.915      0.177      0.863      -177.029   207.153\n",
      "GNP           -0.0358      0.033     -1.070      0.313        -0.112     0.040\n",
      "UNEMP         -2.0202      0.488     -4.136      0.003        -3.125    -0.915\n",
      "ARMED         -1.0332      0.214     -4.822      0.001        -1.518    -0.549\n",
      "POP           -0.0511      0.226     -0.226      0.826        -0.563     0.460\n",
      "YEAR        1829.1515    455.478      4.016      0.003       798.788  2859.515\n",
      "==============================================================================\n",
      "Omnibus:                        0.749   Durbin-Watson:                   2.559\n",
      "Prob(Omnibus):                  0.688   Jarque-Bera (JB):                0.684\n",
      "Skew:                           0.420   Prob(JB):                        0.710\n",
      "Kurtosis:                       2.434   Cond. No.                     4.86e+09\n",
      "==============================================================================\n",
      "\n",
      "Warnings:\n",
      "[1] Standard Errors assume that the covariance matrix of the errors is correctly specified.\n",
      "[2] The condition number is large, 4.86e+09. This might indicate that there are\n",
      "strong multicollinearity or other numerical problems.\n"
     ]
    },
    {
     "name": "stderr",
     "output_type": "stream",
     "text": [
      "C:\\Python34\\lib\\site-packages\\scipy\\stats\\stats.py:1233: UserWarning: kurtosistest only valid for n>=20 ... continuing anyway, n=16\n",
      "  int(n))\n"
     ]
    }
   ],
   "source": [
    "ols_model = sm.OLS(y, X)\n",
    "ols_results = ols_model.fit()\n",
    "print(ols_results.summary())"
   ]
  },
  {
   "cell_type": "markdown",
   "metadata": {},
   "source": [
    "#### Condition number\n",
    "\n",
    "One way to assess multicollinearity is to compute the condition number. Values over 20 are worrisome (see Greene 4.9). The first step is to normalize the independent variables to have unit length: "
   ]
  },
  {
   "cell_type": "code",
   "execution_count": 10,
   "metadata": {
    "collapsed": false
   },
   "outputs": [],
   "source": [
    "norm_x = X.values\n",
    "for i, name in enumerate(X):\n",
    "    if name == \"const\":\n",
    "        continue\n",
    "    norm_x[:,i] = X[name]/np.linalg.norm(X[name])\n",
    "norm_xtx = np.dot(norm_x.T,norm_x)"
   ]
  },
  {
   "cell_type": "markdown",
   "metadata": {},
   "source": [
    "Then, we take the square root of the ratio of the biggest to the smallest eigen values. "
   ]
  },
  {
   "cell_type": "code",
   "execution_count": 11,
   "metadata": {
    "collapsed": false
   },
   "outputs": [
    {
     "name": "stdout",
     "output_type": "stream",
     "text": [
      "56240.8697346\n"
     ]
    }
   ],
   "source": [
    "eigs = np.linalg.eigvals(norm_xtx)\n",
    "condition_number = np.sqrt(eigs.max() / eigs.min())\n",
    "print(condition_number)"
   ]
  },
  {
   "cell_type": "code",
   "execution_count": null,
   "metadata": {
    "collapsed": false
   },
   "outputs": [],
   "source": [
    "ols_results2 = sm.OLS(y.ix[:14], X.ix[:14]).fit()\n",
    "print(\"Percentage change %4.2f%%\\n\"*7 % tuple([i for i in (ols_results2.params - ols_results.params)/ols_results.params*100]))"
   ]
  },
  {
   "cell_type": "markdown",
   "metadata": {},
   "source": [
    "#### Dropping an observation\n",
    "\n",
    "Greene also points out that dropping a single observation can have a dramatic effect on the coefficient estimates: "
   ]
  },
  {
   "cell_type": "markdown",
   "metadata": {},
   "source": [
    "We can also look at formal statistics for this such as the DFBETAS -- a standardized measure of how much each coefficient changes when that observation is left out."
   ]
  },
  {
   "cell_type": "code",
   "execution_count": 12,
   "metadata": {
    "collapsed": false
   },
   "outputs": [],
   "source": [
    "infl = ols_results.get_influence()"
   ]
  },
  {
   "cell_type": "markdown",
   "metadata": {},
   "source": [
    "In general we may consider DBETAS in absolute value greater than $2/\\sqrt{N}$ to be influential observations"
   ]
  },
  {
   "cell_type": "code",
   "execution_count": 13,
   "metadata": {
    "collapsed": false
   },
   "outputs": [
    {
     "data": {
      "text/plain": [
       "0.5"
      ]
     },
     "execution_count": 13,
     "metadata": {},
     "output_type": "execute_result"
    }
   ],
   "source": [
    "2./len(X)**.5"
   ]
  },
  {
   "cell_type": "code",
   "execution_count": 14,
   "metadata": {
    "collapsed": false
   },
   "outputs": [
    {
     "name": "stdout",
     "output_type": "stream",
     "text": [
      "    dfb_const  dfb_GNPDEFL   dfb_GNP  dfb_UNEMP  dfb_ARMED   dfb_POP  dfb_YEAR\n",
      "0   -0.016406    -0.234566 -0.045095  -0.121513  -0.149026  0.211057  0.013388\n",
      "1   -0.020608    -0.289091  0.124453   0.156964   0.287700 -0.161890  0.025958\n",
      "2   -0.008382     0.007161 -0.016799   0.009575   0.002227  0.014871  0.008103\n",
      "3    0.018093     0.907968 -0.500022  -0.495996   0.089996  0.711142 -0.040056\n",
      "4    1.871260    -0.219351  1.611418   1.561520   1.169337 -1.081513 -1.864186\n",
      "5   -0.321373    -0.077045 -0.198129  -0.192961  -0.430626  0.079916  0.323275\n",
      "6    0.315945    -0.241983  0.438146   0.471797  -0.019546 -0.448515 -0.307517\n",
      "7    0.015816    -0.002742  0.018591   0.005064  -0.031320 -0.015823 -0.015583\n",
      "8   -0.004019    -0.045687  0.023708   0.018125   0.013683 -0.034770  0.005116\n",
      "9   -1.018242    -0.282131 -0.412621  -0.663904  -0.715020 -0.229501  1.035723\n",
      "10   0.030947    -0.024781  0.029480   0.035361   0.034508 -0.014194 -0.030805\n",
      "11   0.005987    -0.079727  0.030276  -0.008883  -0.006854 -0.010693 -0.005323\n",
      "12  -0.135883     0.092325 -0.253027  -0.211465   0.094720  0.331351  0.129120\n",
      "13   0.032736    -0.024249  0.017510   0.033242   0.090655  0.007634 -0.033114\n",
      "14   0.305868     0.148070  0.001428   0.169314   0.253431  0.342982 -0.318031\n",
      "15  -0.538323     0.432004 -0.261262  -0.143444  -0.360890 -0.467296  0.552421\n"
     ]
    }
   ],
   "source": [
    "print(infl.summary_frame().filter(regex=\"dfb\"))"
   ]
  },
  {
   "cell_type": "code",
   "execution_count": null,
   "metadata": {
    "collapsed": true
   },
   "outputs": [],
   "source": []
  }
 ],
 "metadata": {
  "kernelspec": {
   "display_name": "Python 3",
   "language": "python",
   "name": "python3"
  },
  "language_info": {
   "codemirror_mode": {
    "name": "ipython",
    "version": 3
   },
   "file_extension": ".py",
   "mimetype": "text/x-python",
   "name": "python",
   "nbconvert_exporter": "python",
   "pygments_lexer": "ipython3",
   "version": "3.4.2"
  }
 },
 "nbformat": 4,
 "nbformat_minor": 0
}
