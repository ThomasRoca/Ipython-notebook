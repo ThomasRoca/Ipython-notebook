{
 "cells": [
  {
   "cell_type": "markdown",
   "metadata": {
    "collapsed": true
   },
   "source": [
    "#<span style=\"color:#285c8c\"><big>&#9733;\"Highchart + Json\" <span style=\"color:#00acee;\">Graph Generator<span style=\"color:#285c8c\"> v1.0 &#9733;</span><big><span style=\"color:#00acee;\"><i>  \n",
    "<br>\n",
    "![image](constructionWorker.png)\n",
    "\n",
    "&#9733;<i>Thomas Roca, PhD - AFD Research Direction &#9733;<br>\n",
    "*Version october 4th 2015*\n",
    "\n",
    "------------------"
   ]
  },
  {
   "cell_type": "code",
   "execution_count": 2,
   "metadata": {
    "collapsed": false
   },
   "outputs": [
    {
     "name": "stdout",
     "output_type": "stream",
     "text": [
      "[2010, 2011, 2012, 2013, 2010, 2011, 2012, 2013, 2010, 2011, 2012, 2013, 2010, 2011, 2012, 2013]\n",
      "['FRA', 'FRA', 'FRA', 'FRA', 'COL', 'COL', 'COL', 'COL', 'COD', 'COD', 'COD', 'COD', 'COG', 'COG', 'COG', 'COG']\n"
     ]
    },
    {
     "data": {
      "text/html": [
       "<iframe src=\"TestChart.html\" scrolling=\"no\" frameborder=\"0\" width=100%\" height=\"500px\"></iframe>"
      ],
      "text/plain": [
       "<IPython.core.display.HTML object>"
      ]
     },
     "execution_count": 2,
     "metadata": {},
     "output_type": "execute_result"
    }
   ],
   "source": [
    "from string import Template\n",
    "from IPython.display import HTML\n",
    "from ftplib import FTP\n",
    "import os\n",
    "\n",
    "#Set parameters. nb. In this version adding a serie or a year will update automatically the graph\n",
    "isolist=['FRA','COL', 'COD', 'COG']\n",
    "yearlist=(2010,2011,2012,2013)\n",
    "\n",
    "\n",
    "iso3list=[\"AFG\",\"ALB\",\"DZA\",\"AND\",\"AGO\",\"ATG\",\"ARG\",\"ARM\",\"AUS\",\"AUT\",\"AZE\",\"BHS\",\"BHR\",\"BGD\",\"BRB\",\"BLR\",\"BEL\",\"BLZ\",\"BEN\",\"BTN\",\"BOL\",\"BIH\",\"BWA\",\"BRA\",\"BRN\",\"BGR\",\"BFA\",\"BDI\",\"KHM\",\"CMR\",\"CAN\",\"CPV\",\"CAF\",\"TCD\",\"CHL\",\"CHN\",\"COL\",\"COM\", \"COG\",\"COD\",\"CRI\",\"CIV\",\"HRV\",\"CUB\",\"CYP\",\"CZE\",\"DNK\",\"DJI\",\"DMA\",\"DOM\",\"ECU\",\"EGY\",\"SLV\",\"GNQ\",\"ERI\",\"EST\",\"ETH\",\"FJI\",\"FIN\",\"FRA\",\"GAB\",\"GMB\",\"GEO\",\"DEU\",\"GHA\",\"GRC\",\"GRD\",\"GTM\",\"GIN\",\"GNB\",\"GUY\",\"HTI\",\"HND\",\"HKG\",\"HUN\",\"ISL\",\"IND\",\"IDN\",\"IRN\",\"IRQ\",\"IRL\",\"ISR\",\"ITA\",\"JAM\",\"JPN\",\"JOR\",\"KAZ\",\"KEN\",\"KIR\",\"PRK\",\"KOR\",\"KWT\",\"KGZ\",\"LAO\",\"LVA\",\"LBN\",\"LSO\",\"LBR\",\"LBY\",\"LIE\",\"LTU\",\"LUX\",\"MKD\",\"MDG\",\"MWI\",\"MYS\",\"MDV\",\"MLI\",\"MLT\",\"MHL\",\"MRT\",\"MUS\",\"MEX\",\"FSM\",\"MDA\",\"MCO\",\"MNG\",\"MNE\",\"MAR\",\"MOZ\",\"MMR\",\"NAM\",\"NRU\",\"NPL\",\"NLD\",\"NZL\",\"NIC\",\"NER\",\"NGA\",\"NOR\",\"PSE\",\"OMN\",\"PAK\",\"PLW\",\"PAN\",\"PNG\",\"PRY\",\"PER\",\"PHL\",\"POL\",\"PRT\",\"QAT\",\"ROU\",\"RUS\",\"RWA\",\"KNA\",\"LCA\",\"VCT\",\"WSM\",\"SMR\",\"STP\",\"SAU\",\"SEN\",\"SRB\",\"SYC\",\"SLE\",\"SGP\",\"SVK\",\"SVN\",\"SLB\",\"SOM\",\"ZAF\",\"ESP\",\"LKA\",\"SDN\",\"SUR\",\"SWZ\",\"SWE\",\"CHE\",\"SYR\",\"TJK\",\"TZA\",\"THA\",\"TLS\",\"TGO\",\"TON\",\"TTO\",\"TUN\",\"TUR\",\"TKM\",\"TUV\",\"UGA\",\"UKR\",\"ARE\",\"GBR\",\"USA\",\"URY\",\"UZB\",\"VUT\",\"VEN\",\"VNM\",\"YEM\",\"ZMB\",\"ZWE\",\"SSD\"]\n",
    "countrylist=[\"Afghanistan\",\"Albania\",\"Algeria\",\"Andorra\",\"Angola\",\"Antigua and Barbuda\",\"Argentina\",\"Armenia\",\"Australia\",\"Austria\",\"Azerbaijan\",\"Bahamas\",\"Bahrain\",\"Bangladesh\",\"Barbados\",\"Belarus\",\"Belgium\",\"Belize\",\"Benin\",\"Bhutan\",\"Bolivia (Plurinational State of)\",\"Bosnia and Herzegovina\",\"Botswana\",\"Brazil\",\"Brunei Darussalam\",\"Bulgaria\",\"Burkina Faso\",\"Burundi\",\"Cambodia\",\"Cameroon\",\"Canada\",\"Cape Verde\",\"Central African Republic\",\"Chad\",\"Chile\",\"China\",\"Colombia\",\"Comoros\",\"Congo\",\"Congo (DR)\",\"Costa Rica\",\"Côte d'Ivoire\",\"Croatia\",\"Cuba\",\"Cyprus\",\"Czech Republic\",\"Denmark\",\"Djibouti\",\"Dominica\",\"Dominican Republic\",\"Ecuador\",\"Egypt\",\"El Salvador\",\"Equatorial Guinea\",\"Eritrea\",\"Estonia\",\"Ethiopia\",\"Fiji\",\"Finland\",\"France\",\"Gabon\",\"Gambia\",\"Georgia\",\"Germany\",\"Ghana\",\"Greece\",\"Grenada\",\"Guatemala\",\"Guinea\",\"Guinea Bissau\",\"Guyana\",\"Haiti\",\"Honduras\",\"Hong Kong\",\"Hungary\",\"Iceland\",\"India\",\"Indonesia\",\"Iran (Islamic Republic of)\",\"Iraq\",\"Ireland\",\"Israel\",\"Italy\",\"Jamaica\",\"Japan\",\"Jordan\",\"Kazakhstan\",\"Kenya\",\"Kiribati\",\"Korea (Democratic People's Rep. of)\",\"Korea (Republic of)\",\"Kuwait\",\"Kyrgyzstan\",\"Lao People's Democratic Republic\",\"Latvia\",\"Lebanon\",\"Lesotho\",\"Liberia\",\"Libya\",\"Liechtenstein\",\"Lithuania\",\"Luxembourg\",\"The former Yugoslav Republic of Macedonia\",\"Madagascar\",\"Malawi\",\"Malaysia\",\"Maldives\",\"Mali\",\"Malta\",\"Marshall Islands\",\"Mauritania\",\"Mauritius\",\"Mexico\",\"Micronesia (Federated States of)\",\"Moldova (Republic of)\",\"Monaco\",\"Mongolia\",\"Montenegro\",\"Morocco\",\"Mozambique\",\"Myanmar\",\"Namibia\",\"Nauru\",\"Nepal\",\"Netherlands\",\"New Zealand\",\"Nicaragua\",\"Niger\",\"Nigeria\",\"Norway\",\"Palestine, State of\",\"Oman\",\"Pakistan\",\"Palau\",\"Panama\",\"Papua New Guinea\",\"Paraguay\",\"Peru\",\"Philippines\",\"Poland\",\"Portugal\",\"Qatar\",\"Romania\",\"Russian Federation\",\"Rwanda\",\"Saint Kitts and Nevis\",\"Saint Lucia\",\"Saint Vincent and the Grenadines\",\"Samoa\",\"San Marino\",\"Sao Tome and Principe\",\"Saudi Arabia\",\"Senegal\",\"Serbia\",\"Seychelles\",\"Sierra Leone\",\"Singapore\",\"Slovakia\",\"Slovenia\",\"Solomon Islands\",\"Somalia\",\"South Africa\",\"Spain\",\"Sri Lanka\",\"Sudan\",\"Suriname\",\"Swaziland\",\"Sweden\",\"Switzerland\",\"Syrian Arab Republic\",\"Tajikistan\",\"Tanzania (United Republic of)\",\"Thailand\",\"Timor Leste\",\"Togo\",\"Tonga\",\"Trinidad and Tobago\",\"Tunisia\",\"Turkey\",\"Turkmenistan\",\"Tuvalu\",\"Uganda\",\"Ukraine\",\"United Arab Emirates\",\"United Kingdom\",\"United States\",\"Uruguay\",\"Uzbekistan\",\"Vanuatu\",\"Venezuela (Bolivarian Republic of)\",\"Viet Nam\",\"Yemen\",\"Zambia\",\"Zimbabwe\",\"South Sudan\"]\n",
    "\n",
    "#save lists lenght\n",
    "li=len(isolist)\n",
    "ly=len(yearlist)\n",
    "\n",
    "#Pythonic way of doing loops with array as a result.. fancy...\n",
    "year = [y for i in range (0,li) for y in yearlist] #will produce len(isolist) time year list\n",
    "print(year)\n",
    "serie= [i for i in isolist for y in range (0,ly)] #will produce len(yearlist) time each isolist item\n",
    "print(serie)\n",
    "\n",
    "#use of joint function to go from 'a','b' to 'a,b' // use a double iteration through 2 lists\n",
    "value=\",\".join(['json.HDI.'+i+str(y) for i in isolist for y in yearlist]) \n",
    "\n",
    "color = ['#6e9fc5', '#ffdf51' ,'#a6ca6d' ,'#ad46d6' ,'#f26a2e','#00adef','#f4bb90']\n",
    "title='Human Development Index'\n",
    "indicator='HDI'\n",
    "subtitle= 'source:UNDP, Human Development Report Office'\n",
    "\n",
    "#What will be substitute in the template function\n",
    "Input = {'value':value,'year': year, 'serie' :serie, 'title':title, 'indicator':indicator,'subtitle':subtitle, 'color':color }\n",
    "\n",
    "#Starting HTML code\n",
    "html='''\n",
    "<!DOCTYPE html>\n",
    "<html><head>\n",
    "<meta http-equiv=\"content-type\" content=\"text/html; charset=UTF-8\">\n",
    "<title>Read json with javascript </title>\n",
    "<script type='text/javascript' src='//code.jquery.com/jquery-1.9.1.js'></script>\n",
    "<script type='text/javascript'>\n",
    "\n",
    "$(window).load(function(){\n",
    "\n",
    "var url_c=\"data/Panel_c.json\";\n",
    "\n",
    "$.getJSON(url_c, function(json) {\n",
    "$(function () {\n",
    " \n",
    "   var values = [$value],    \n",
    "     year =  $year, \n",
    "     categories = $serie, \n",
    "     title ='$title',\n",
    "     subtitle = '$subtitle',\n",
    "     indicator = '$indicator'\n",
    "     color = $color\n",
    "     \n",
    "         series = [];\n",
    "    series = generateData(year,categories, values);\n",
    "    function generateData(cats, names, points) {\n",
    "        var ret = {},\n",
    "            ps = [],\n",
    "            series = [],\n",
    "            len = cats.length;\n",
    "\n",
    "        //concat to get points\n",
    "        for (var i = 0; i < len; i++) {\n",
    "            ps[i] = {\n",
    "                x: cats[i],\n",
    "                y: points[i],\n",
    "                n: names[i]\n",
    "            };\n",
    "        }\n",
    "        names = [];\n",
    "        //generate series and split points\n",
    "        for (i = 0; i < len; i++) {\n",
    "            var p = ps[i],\n",
    "                sIndex = $.inArray(p.n, names);\n",
    "\n",
    "            if (sIndex < 0) {\n",
    "                sIndex = names.push(p.n) - 1;\n",
    "                series.push({\n",
    "                    name: p.n,\n",
    "                    data: []\n",
    "                });\n",
    "            }\n",
    "            series[sIndex].data.push(p);\n",
    "        }\n",
    "        return series;\n",
    "    }\n",
    "\n",
    "    $('#container').highcharts({\n",
    "        chart: {type: 'spline'},\n",
    "        //plotOptions: { column: { colorByPoint: true } },\n",
    "        colors: color,\n",
    "        title: {text: title},    \n",
    "        subtitle: {text: subtitle},\n",
    "        yAxis: {title: {text: indicator }, plotLines: [{ value: 0, width: 1}] },\n",
    "        tooltip: {valueSuffix: '' },\n",
    "        legend: { layout: 'vertical', align: 'right',verticalAlign: 'middle', borderWidth: 0},\n",
    "        series: series\n",
    "    });\n",
    "});\n",
    "\n",
    " }); // end of getjson  \n",
    "}); // end of onload\n",
    "//]]>  \n",
    "\n",
    "</script></head><body>\n",
    "<script src=\"http://code.highcharts.com/highcharts.js\"></script>\n",
    "<script src=\"http://code.highcharts.com/modules/exporting.js\"></script>\n",
    "<div id=\"container\" style=\"min-width: 310px; height: 400px; margin: 0 auto\"></div>\n",
    "</body></html>\n",
    "'''\n",
    "\n",
    "#=====================================================================================================================\n",
    "#                                         Writing the HTML file\n",
    "#=====================================================================================================================\n",
    "\n",
    "#open an handle\n",
    "f = open('TestChart.html','w')\n",
    "#write the content within the handle\n",
    "file_content = Template(html).safe_substitute(Input)\n",
    "f.write(file_content)\n",
    "f.close()\n",
    "#generate an html file\n",
    "filename='TestChart.html'\n",
    "\n",
    "\n",
    "#=====================================================================================================================\n",
    "#                                         ! Done => print chart address, display in ipython\n",
    "#=====================================================================================================================\n",
    "\n",
    "HTML('''<iframe src=\"TestChart.html\" scrolling=\"no\" frameborder=\"0\" width=100%\" height=\"500px\"></iframe>''')"
   ]
  },
  {
   "cell_type": "code",
   "execution_count": null,
   "metadata": {
    "collapsed": true
   },
   "outputs": [],
   "source": []
  }
 ],
 "metadata": {
  "kernelspec": {
   "display_name": "Python 3",
   "language": "python",
   "name": "python3"
  },
  "language_info": {
   "codemirror_mode": {
    "name": "ipython",
    "version": 3
   },
   "file_extension": ".py",
   "mimetype": "text/x-python",
   "name": "python",
   "nbconvert_exporter": "python",
   "pygments_lexer": "ipython3",
   "version": "3.4.2"
  }
 },
 "nbformat": 4,
 "nbformat_minor": 0
}
