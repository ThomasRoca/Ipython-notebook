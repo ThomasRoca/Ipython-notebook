{
 "cells": [
  {
   "cell_type": "markdown",
   "metadata": {},
   "source": [
    "##  <span style=\"color:#a6ca6d\">HDRdata API demo: </span> <span style=\"color:#3972A0\">Parsing and computing average, graph with <span style=\"color:#00acee\"> &#9733; Highcharts &#9733; </span>\n",
    "\n",
    "*Version May 29, 2015* <br>\n",
    "\n",
    "For more information about HDROdata API see UNDP - HDRO web site: http://hdr.undp.org/en/content/developers-data-api <br>\n",
    "For more information about Highcharts: http://www.highcharts.com/\n",
    "\n",
    "---"
   ]
  },
  {
   "cell_type": "code",
   "execution_count": 6,
   "metadata": {
    "collapsed": false
   },
   "outputs": [
    {
     "name": "stdout",
     "output_type": "stream",
     "text": [
      "API: http://ec2-52-1-168-42.compute-1.amazonaws.com/version/1/indicator_id/136906,137006/year/2013?structure=iyc\n",
      "                                                Year  HDI women   HDI men\n",
      "Region                                                                   \n",
      "East Asia & Pacific (all income levels)         2013   0.727700  0.765000\n",
      "Europe & Central Asia (all income levels)       2013   0.806818  0.822455\n",
      "Latin America & Caribbean (all income levels)   2013   0.709773  0.732227\n",
      "Middle East & North Africa (all income levels)  2013   0.696353  0.772765\n",
      "North America                                   2013   0.902000  0.910500\n"
     ]
    },
    {
     "data": {
      "text/html": [
       "<iframe src=\"BarGraphHDIregion.html\" scrolling=\"no\" frameborder=\"0\" width=\"90%\" height=\"450px\"></iframe>"
      ],
      "text/plain": [
       "<IPython.core.display.HTML object>"
      ]
     },
     "execution_count": 6,
     "metadata": {},
     "output_type": "execute_result"
    }
   ],
   "source": [
    "import pandas as pd\n",
    "from pandas import Series, DataFrame, concat\n",
    "import json\n",
    "import numpy as np\n",
    "from IPython.display import HTML\n",
    "\n",
    "#=============================================================================================================\n",
    "indicator_id1=str(136906)   # NB. HDI women\n",
    "indicator_id2=str(137006)   # NB. HDI men\n",
    "Year=str(2013)\n",
    "#=============================================================================================================\n",
    "\n",
    "#------------------------- prepare the API request -------------------------\n",
    "indicator_id=indicator_id1+','+indicator_id2\n",
    "\n",
    "url=\"http://ec2-52-1-168-42.compute-1.amazonaws.com/version/1/indicator_id/\"+indicator_id+\"/year/\"+Year+\"?structure=iyc\"\n",
    "print('API:',url)\n",
    "\n",
    "#------------------------- Load the data with Pandas -----------------------\n",
    "# load dataframe:\n",
    "df=pd.read_json(url)\n",
    "\n",
    "#------------------------- Parsing the data ----------------------------- \n",
    "\n",
    "# Parse the data: each serie saved (i.e. each variable for)\n",
    "var1 = Series(df['indicator_value'][indicator_id1][Year])\n",
    "var2 = Series(df['indicator_value'][indicator_id2][Year])\n",
    "cname=Series(df[\"country_name\"])\n",
    "\n",
    "# Generate a table with data merged and joind by country iso. (To have a matrix with no missing values)\n",
    "table = concat([var1,var2], axis=1, join='inner')\n",
    "# Convert into float as a whole, replace X=[float(i) for i in X] i.e. for each column\n",
    "\n",
    "table = table.astype(np.float)\n",
    "table = concat([table, cname], axis=1, join='inner')\n",
    "\n",
    "#genrate a column with the year \n",
    "year=(table[0]/table[0])*int(Year)  # NB. Not smart trick to generate a column with a constant \n",
    "table = concat([table,year], axis=1, join='inner') #insert that column\n",
    "\n",
    "# set columns name:\n",
    "table.columns = ['HDI women','HDI men','cname','Year',] \n",
    "\n",
    "#change columns order:\n",
    "table = table[['cname','Year','HDI women','HDI men']]\n",
    "\n",
    "#------------------------------- Add information further information on countries ---------------------------------------\n",
    "data = {'HDIclass': [4,4,2,1,1,1,2,2,1,1,2,4,1,4,4,3,2,1,2,2,2,2,3,2,2,1,3,3,4,1,1,1,2,4,4,4,3,2,4,3,2,1,1,1,1,4,2,1,2,2,2,3,4,1,1,4,1,2,1,3,1,2,3,4,4,4,3,1,2,3,3,1,3,1,4,1,3,3,1,3,1,1,1,2,2,1,2,4,3,3,3,2,1,1,3,2,4,2,2,1,2,4,1,1,1,3,3,4,3,2,2,4,1,4,2,3,4,4,2,4,2,3,4,4,3,1,1,4,1,2,4,2,2,3,2,4,1,1,3,1,2,2,4,1,4,4,1,4,4,3,4,2,4,3,2,1,1,1,4,2,3,4,4,2,3,3,3,2,2,2,2,4,4,2,2,1,3,2,2,3,3,3,4,3,3,4],\n",
    "'HDIcat': ['Low HDI','Low HDI','High HDI','Very high HDI','Very high HDI','Very high HDI','High HDI','High HDI','Very high HDI','Very high HDI','High HDI','Low HDI','Very high HDI','Low HDI','Low HDI','Medium HDI','High HDI','Very high HDI','High HDI','High HDI','High HDI','High HDI','Medium HDI','High HDI','High HDI','Very high HDI','Medium HDI','Medium HDI','Low HDI','Very high HDI','Very high HDI','Very high HDI','High HDI','Low HDI','Low HDI','Low HDI','Medium HDI','High HDI','Low HDI','Medium HDI','High HDI','Very high HDI','Very high HDI','Very high HDI','Very high HDI','Low HDI','High HDI','Very high HDI','High HDI','High HDI','High HDI','Medium HDI','Low HDI','Very high HDI','Very high HDI','Low HDI','Very high HDI','High HDI','Very high HDI','Medium HDI','Very high HDI','High HDI','Medium HDI','Low HDI','Low HDI','Low HDI','Medium HDI','Very high HDI','High HDI','Medium HDI','Medium HDI','Very high HDI','Medium HDI','Very high HDI','Low HDI','Very high HDI','Medium HDI','Medium HDI','Very high HDI','Medium HDI','Very high HDI','Very high HDI','Very high HDI','High HDI','High HDI','Very high HDI','High HDI','Low HDI','Medium HDI','Medium HDI','Medium HDI','High HDI','Very high HDI','Very high HDI','Medium HDI','High HDI','Low HDI','High HDI','High HDI','Very high HDI','High HDI','Low HDI','Very high HDI','Very high HDI','Very high HDI','Medium HDI','Medium HDI','Low HDI','Medium HDI','High HDI','High HDI','Low HDI','Very high HDI','Low HDI','High HDI','Medium HDI','Low HDI','Low HDI','High HDI','Low HDI','High HDI','Medium HDI','Low HDI','Low HDI','Medium HDI','Very high HDI','Very high HDI','Low HDI','Very high HDI','High HDI','Low HDI','High HDI','High HDI','Medium HDI','High HDI','Low HDI','Very high HDI','Very high HDI','Medium HDI','Very high HDI','High HDI','High HDI','Low HDI','Very high HDI','Low HDI','Low HDI','Very high HDI','Low HDI','Low HDI','Medium HDI','Low HDI','High HDI','Low HDI','Medium HDI','High HDI','Very high HDI','Very high HDI','Very high HDI','Low HDI','High HDI','Medium HDI','Low HDI','Low HDI','High HDI','Medium HDI','Medium HDI','Medium HDI','High HDI','High HDI','High HDI','High HDI','Low HDI','Low HDI','High HDI','High HDI','Very high HDI','Medium HDI','High HDI','High HDI','Medium HDI','Medium HDI','Medium HDI','Low HDI','Medium HDI','Medium HDI','Low HDI'],\n",
    "'Region': ['South Asia','Sub-Saharan Africa (all income levels)','Europe & Central Asia (all income levels)','Europe & Central Asia (all income levels)','Middle East & North Africa (all income levels)','Latin America & Caribbean (all income levels)','Europe & Central Asia (all income levels)','Latin America & Caribbean (all income levels)','East Asia & Pacific (all income levels)','Europe & Central Asia (all income levels)','Europe & Central Asia (all income levels)','Sub-Saharan Africa (all income levels)','Europe & Central Asia (all income levels)','Sub-Saharan Africa (all income levels)','Sub-Saharan Africa (all income levels)','South Asia','Europe & Central Asia (all income levels)','Middle East & North Africa (all income levels)','Latin America & Caribbean (all income levels)','Europe & Central Asia (all income levels)','Europe & Central Asia (all income levels)','Latin America & Caribbean (all income levels)','Latin America & Caribbean (all income levels)','Latin America & Caribbean (all income levels)','Latin America & Caribbean (all income levels)','East Asia & Pacific (all income levels)','South Asia','Sub-Saharan Africa (all income levels)','Sub-Saharan Africa (all income levels)','North America','Europe & Central Asia (all income levels)','Latin America & Caribbean (all income levels)','East Asia & Pacific (all income levels)','Sub-Saharan Africa (all income levels)','Sub-Saharan Africa (all income levels)','Sub-Saharan Africa (all income levels)','Sub-Saharan Africa (all income levels)','Latin America & Caribbean (all income levels)','Sub-Saharan Africa (all income levels)','Sub-Saharan Africa (all income levels)','Latin America & Caribbean (all income levels)','Latin America & Caribbean (all income levels)','Europe & Central Asia (all income levels)','Europe & Central Asia (all income levels)','Europe & Central Asia (all income levels)','Sub-Saharan Africa (all income levels)','Latin America & Caribbean (all income levels)','Europe & Central Asia (all income levels)','Latin America & Caribbean (all income levels)','Middle East & North Africa (all income levels)','Latin America & Caribbean (all income levels)','Middle East & North Africa (all income levels)','Sub-Saharan Africa (all income levels)','Europe & Central Asia (all income levels)','Europe & Central Asia (all income levels)','Sub-Saharan Africa (all income levels)','Europe & Central Asia (all income levels)','East Asia & Pacific (all income levels)','Europe & Central Asia (all income levels)','Sub-Saharan Africa (all income levels)','Europe & Central Asia (all income levels)','Europe & Central Asia (all income levels)','Sub-Saharan Africa (all income levels)','Sub-Saharan Africa (all income levels)','Sub-Saharan Africa (all income levels)','Sub-Saharan Africa (all income levels)','Sub-Saharan Africa (all income levels)','Europe & Central Asia (all income levels)','Latin America & Caribbean (all income levels)','Latin America & Caribbean (all income levels)','Latin America & Caribbean (all income levels)','East Asia & Pacific (all income levels)','Latin America & Caribbean (all income levels)','Europe & Central Asia (all income levels)','Latin America & Caribbean (all income levels)','Europe & Central Asia (all income levels)','East Asia & Pacific (all income levels)','South Asia','Europe & Central Asia (all income levels)','Middle East & North Africa (all income levels)','Europe & Central Asia (all income levels)','Middle East & North Africa (all income levels)','Europe & Central Asia (all income levels)','Latin America & Caribbean (all income levels)','Middle East & North Africa (all income levels)','East Asia & Pacific (all income levels)','Europe & Central Asia (all income levels)','Sub-Saharan Africa (all income levels)','Europe & Central Asia (all income levels)','East Asia & Pacific (all income levels)','East Asia & Pacific (all income levels)','Latin America & Caribbean (all income levels)','East Asia & Pacific (all income levels)','Middle East & North Africa (all income levels)','East Asia & Pacific (all income levels)','Middle East & North Africa (all income levels)','Sub-Saharan Africa (all income levels)','Middle East & North Africa (all income levels)','Latin America & Caribbean (all income levels)','Europe & Central Asia (all income levels)','South Asia','Sub-Saharan Africa (all income levels)','Europe & Central Asia (all income levels)','Europe & Central Asia (all income levels)','Europe & Central Asia (all income levels)','Middle East & North Africa (all income levels)','Europe & Central Asia (all income levels)','Sub-Saharan Africa (all income levels)','South Asia','Latin America & Caribbean (all income levels)','Europe & Central Asia (all income levels)','Sub-Saharan Africa (all income levels)','Middle East & North Africa (all income levels)','East Asia & Pacific (all income levels)','Europe & Central Asia (all income levels)','East Asia & Pacific (all income levels)','Sub-Saharan Africa (all income levels)','Sub-Saharan Africa (all income levels)','Sub-Saharan Africa (all income levels)','Sub-Saharan Africa (all income levels)','East Asia & Pacific (all income levels)','Sub-Saharan Africa (all income levels)','Sub-Saharan Africa (all income levels)','Sub-Saharan Africa (all income levels)','Latin America & Caribbean (all income levels)','Europe & Central Asia (all income levels)','Europe & Central Asia (all income levels)','South Asia','East Asia & Pacific (all income levels)','Middle East & North Africa (all income levels)','South Asia','Latin America & Caribbean (all income levels)','Latin America & Caribbean (all income levels)','East Asia & Pacific (all income levels)','East Asia & Pacific (all income levels)','East Asia & Pacific (all income levels)','Europe & Central Asia (all income levels)','Europe & Central Asia (all income levels)','Latin America & Caribbean (all income levels)','Middle East & North Africa (all income levels)','Europe & Central Asia (all income levels)','Europe & Central Asia (all income levels)','Sub-Saharan Africa (all income levels)','Middle East & North Africa (all income levels)','Sub-Saharan Africa (all income levels)','Sub-Saharan Africa (all income levels)','East Asia & Pacific (all income levels)','East Asia & Pacific (all income levels)','Sub-Saharan Africa (all income levels)','Latin America & Caribbean (all income levels)','Sub-Saharan Africa (all income levels)','Europe & Central Asia (all income levels)','Sub-Saharan Africa (all income levels)','Sub-Saharan Africa (all income levels)','Latin America & Caribbean (all income levels)','Europe & Central Asia (all income levels)','Europe & Central Asia (all income levels)','Europe & Central Asia (all income levels)','Sub-Saharan Africa (all income levels)','Sub-Saharan Africa (all income levels)','Middle East & North Africa (all income levels)','Sub-Saharan Africa (all income levels)','Sub-Saharan Africa (all income levels)','East Asia & Pacific (all income levels)','Europe & Central Asia (all income levels)','Europe & Central Asia (all income levels)','East Asia & Pacific (all income levels)','East Asia & Pacific (all income levels)','Latin America & Caribbean (all income levels)','Middle East & North Africa (all income levels)','Europe & Central Asia (all income levels)','Sub-Saharan Africa (all income levels)','Sub-Saharan Africa (all income levels)','Europe & Central Asia (all income levels)','Latin America & Caribbean (all income levels)','North America','Europe & Central Asia (all income levels)','Latin America & Caribbean (all income levels)','Latin America & Caribbean (all income levels)','East Asia & Pacific (all income levels)','East Asia & Pacific (all income levels)','East Asia & Pacific (all income levels)','Middle East & North Africa (all income levels)','Sub-Saharan Africa (all income levels)','Sub-Saharan Africa (all income levels)','Sub-Saharan Africa (all income levels)']}\n",
    "\n",
    "tablePlus=DataFrame(data, index= ['AFG','AGO','ALB','AND','ARE','ARG','ARM','ATG','AUS','AUT','AZE','BDI','BEL','BEN','BFA','BGD','BGR','BHR','BHS','BIH','BLR','BLZ','BOL','BRA','BRB','BRN','BTN','BWA','CAF','CAN','CHE','CHL','CHN','CIV','CMR','COD','COG','COL','COM','CPV','CRI','CUB','CYP','CZE','DEU','DJI','DMA','DNK','DOM','DZA','ECU','EGY','ERI','ESP','EST','ETH','FIN','FJI','FRA','GAB','GBR','GEO','GHA','GIN','GMB','GNB','GNQ','GRC','GRD','GTM','GUY','HKG','HND','HRV','HTI','HUN','IDN','IND','IRL','IRQ','ISL','ISR','ITA','JAM','JOR','JPN','KAZ','KEN','KGZ','KHM','KIR','KNA','KOR','KWT','LAO','LBN','LBR','LBY','LCA','LIE','LKA','LSO','LTU','LUX','LVA','MAR','MDA','MDG','MDV','MEX','MKD','MLI','MLT','MMR','MNE','MNG','MOZ','MRT','MUS','MWI','MYS','NAM','NER','NGA','NIC','NLD','NOR','NPL','NZL','OMN','PAK','PAN','PER','PHL','PLW','PNG','POL','PRT','PRY','QAT','ROU','RUS','RWA','SAU','SDN','SEN','SGP','SLB','SLE','SLV','SOM','SRB','SSD','STP','SUR','SVK','SVN','SWE','SWZ','SYC','SYR','TCD','TGO','THA','TJK','TKM','TLS','TON','TTO','TUN','TUR','TZA','UGA','UKR','URY','USA','UZB','VCT','VEN','VNM','VUT','WSM','YEM','ZAF','ZMB','ZWE'])\n",
    "\n",
    "#join tablePlus to original table\n",
    "table = concat([table, tablePlus], axis=1, join='inner')\n",
    "\n",
    "#-------------------------------\n",
    "\n",
    "#compute mean by HDI categories\n",
    "tableHDIcat = table.groupby('HDIcat').mean()\n",
    "tableRegion = table.groupby('Region').mean()\n",
    "\n",
    "#get rid of HDIclass column\n",
    "tableRegion = tableRegion.drop(['HDIclass'], axis=1)\n",
    "\n",
    "\n",
    "#-----------------Prepare the data for Highcart-------------------------\n",
    "\n",
    "# Records each columns as an array to be ploted.\n",
    "HDI_women_HDIcat=str(np.array(tableHDIcat['HDI women']).tolist())\n",
    "HDI_men_HDIcat=str(np.array(tableHDIcat['HDI men']).tolist())\n",
    "\n",
    "#store index in a list\n",
    "HDIcat=str(tableHDIcat.index.tolist())\n",
    "region=str(tableRegion.index.tolist())\n",
    "\n",
    "#Store data as string list to be displayed in Highchart\n",
    "HDI_women_Region=str(np.array(tableRegion['HDI women']).tolist())\n",
    "HDI_men_Region=str(np.array(tableRegion['HDI men']).tolist())\n",
    "\n",
    "#Show the data\n",
    "print(tableRegion.head())\n",
    "\n",
    "#------------------------------------writing html code ------------------------------------\n",
    "\n",
    "# write html code: \n",
    "htmlStart=''' \n",
    "<script type='text/javascript'>//<![CDATA[ \n",
    "var dataValues =''' \n",
    "\n",
    "html1=''' \n",
    "; \n",
    "var dataValues2 = \n",
    "''' \n",
    "\n",
    "html2=''' \n",
    ";\n",
    "var categories = \n",
    "'''\n",
    "\n",
    "html3='''\n",
    ";\n",
    "// Define the variables\n",
    "var title=\"Human Development Index by gender, 2013\";\n",
    "var c1=\"rgba(165,170,217,1)\";\n",
    "var c2=\"rgba(126,86,134,.9)\";\n",
    "var serie1=\"Men\";\n",
    "var serie2=\"Women\";\n",
    "</script>\n",
    "'''\n",
    "\n",
    "htmlEND='''\n",
    "<html><head>\n",
    "  <meta http-equiv=\"content-type\" content=\"text/html; charset=UTF-8\">\n",
    "  <title>Highcharts with variable Column - by ThomasRoca</title>\n",
    "  <script type='text/javascript' src='//ajax.googleapis.com/ajax/libs/jquery/1.7.2/jquery.min.js'></script>\n",
    "\n",
    "<script type='text/javascript'>\n",
    "$(function () {\n",
    "    $('#container').highcharts({\n",
    "    chart: {type: 'column'},\n",
    "    plotOptions: {column: {grouping:false,shadow:false,borderWidth: 0} },\n",
    "title: { text:title },\n",
    "xAxis: {categories: categories },\n",
    "series: [{ name: serie1, color: c1, data: dataValues,pointPadding: 0.3 }, \n",
    "          {name: serie2, color: c2, data: dataValues2,pointPadding: 0.4 }\n",
    "     ]\n",
    "    });\n",
    "});  \n",
    "//]]>  \n",
    "\n",
    "</script></head>\n",
    "<body><script src=\"http://code.highcharts.com/highcharts.js\"></script>\n",
    "<div id=\"container\" style=\"height: 400px\"></div>\n",
    "</body></html>\n",
    "''' \n",
    "#------------------------------------------------------------------------------- End of HTML code\n",
    "\n",
    "#open an handle\n",
    "f = open('BarGraphHDIregion.html','w')\n",
    "#store the html file content\n",
    "file_content=(htmlStart+HDI_men_Region+html1+HDI_women_Region+html2+region+html3+htmlEND)\n",
    "# htmlStart+HDI_men_HDIcat+html1+HDI_women_HDIcat+html2+HDIcat+html3+htmlEND)\n",
    "#write the content within the handle\n",
    "f.write(file_content)\n",
    "f.close()\n",
    "\n",
    "#generate an html file\n",
    "filename='BarGraphHDIregion.html'\n",
    "#Embed the html file (NB. it probably exists smarter way to do all this)\n",
    "HTML('''<iframe src=\"BarGraphHDIregion.html\" scrolling=\"no\" frameborder=\"0\" width=\"90%\" height=\"450px\"></iframe>''')\n",
    "\n",
    "\n"
   ]
  },
  {
   "cell_type": "markdown",
   "metadata": {},
   "source": [
    "### <span style=\"color:#3972A0\"> Or by HDI categories ...</span>"
   ]
  },
  {
   "cell_type": "code",
   "execution_count": 7,
   "metadata": {
    "collapsed": false
   },
   "outputs": [
    {
     "name": "stdout",
     "output_type": "stream",
     "text": [
      "               Year  HDI women   HDI men  HDIclass\n",
      "HDIcat                                            \n",
      "High HDI       2013   0.726778  0.756583         2\n",
      "Low HDI        2013   0.413312  0.489313         4\n",
      "Medium HDI     2013   0.600375  0.651312         3\n",
      "Very high HDI  2013   0.853894  0.873660         1\n"
     ]
    },
    {
     "data": {
      "text/html": [
       "<iframe src=\"BarGraphHDIclass.html\" scrolling=\"no\" frameborder=\"0\" width=\"90%\" height=\"450px\"></iframe>"
      ],
      "text/plain": [
       "<IPython.core.display.HTML object>"
      ]
     },
     "execution_count": 7,
     "metadata": {},
     "output_type": "execute_result"
    }
   ],
   "source": [
    "#Show the table\n",
    "print(tableHDIcat.head())\n",
    "\n",
    "#open an handle\n",
    "f = open('BarGraphHDIclass.html','w')\n",
    "#store the html file content\n",
    "file_content=(htmlStart+HDI_men_HDIcat+html1+HDI_women_HDIcat+html2+HDIcat+html3+htmlEND)\n",
    "#write the content within the handle\n",
    "f.write(file_content)\n",
    "f.close()\n",
    "\n",
    "#generate an html file\n",
    "filename='BarGraphHDIclass.html'\n",
    "#Embed the html file (NB. it probably exists smarter way to do all this)\n",
    "HTML('''<iframe src=\"BarGraphHDIclass.html\" scrolling=\"no\" frameborder=\"0\" width=\"90%\" height=\"450px\"></iframe>''')"
   ]
  }
 ],
 "metadata": {
  "kernelspec": {
   "display_name": "Python 3",
   "language": "python",
   "name": "python3"
  },
  "language_info": {
   "codemirror_mode": {
    "name": "ipython",
    "version": 3
   },
   "file_extension": ".py",
   "mimetype": "text/x-python",
   "name": "python",
   "nbconvert_exporter": "python",
   "pygments_lexer": "ipython3",
   "version": "3.4.2"
  }
 },
 "nbformat": 4,
 "nbformat_minor": 0
}
