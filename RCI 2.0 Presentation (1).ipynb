{
 "cells": [
  {
   "cell_type": "markdown",
   "metadata": {},
   "source": [
    "<div style=\"text-align:center\" markdown=\"1\">  \n",
    "#<span style=\"color:\">Relational Capability Index  <span style=\"color:#30b3d5\">2.0</span> \n",
    "####*Gael Giraud, Thomas Roca, Cécile Renouard, Rakesh Gupta.*"
   ]
  },
  {
   "cell_type": "code",
   "execution_count": null,
   "metadata": {
    "collapsed": true
   },
   "outputs": [],
   "source": []
  },
  {
   "cell_type": "markdown",
   "metadata": {},
   "source": [
    "#1. <span style=\"color:#30b3d5\">Introduction</span>\n",
    "\n",
    "##Relational Capability Indicator (RCI) by Giraud, Renouard et al. (2011)\n",
    "\n",
    "####\"Human development is the expansion of people's freedom to live long, healthy and creative lives \" -- <span style=\"color:#30b3d5\">Mahbub ul Haq</span>\n",
    "\n",
    "####But also \"to engage actively in shaping development equitably and sustainably on a shared planet\" -- <span style=\"color:#30b3d5\">Sabina Alkire</span>"
   ]
  },
  {
   "cell_type": "code",
   "execution_count": null,
   "metadata": {
    "collapsed": true
   },
   "outputs": [],
   "source": []
  },
  {
   "cell_type": "markdown",
   "metadata": {},
   "source": [
    "#1.1 Why RCI <span style=\"color:#30b3d5\">2.0</span> ?\n",
    "\n",
    "###* Measuring Relational Capability not in a deprivation perspective\n",
    "###* Removing potentially arbitraty cut-offs\n",
    "###* Allowing consistent space and time comparability\n",
    "###* Making comparison with macro indicators more robust"
   ]
  },
  {
   "cell_type": "code",
   "execution_count": null,
   "metadata": {
    "collapsed": true
   },
   "outputs": [],
   "source": []
  },
  {
   "cell_type": "markdown",
   "metadata": {},
   "source": [
    "#1.2 <span style=\"color:#30b3d5\">Data</span> and <span style=\"color:#30b3d5\">construction</span> of RCI2.0\n",
    "\n",
    "###As underlined by Foster, J. (2013), policy and advocacy require an index that respects both Consistency and Validity:\n",
    "\n",
    "###¤ Understandable and easy to describe\n",
    "###¤ Understandable at a deeper level including goalposts and group-cutoffs\n",
    "###¤ Measuring absolute \"size of HD\" - independent from other countries\n",
    "###¤ Conforms to a notion of what is being measured \n",
    "\n",
    "\n"
   ]
  },
  {
   "cell_type": "code",
   "execution_count": null,
   "metadata": {
    "collapsed": true
   },
   "outputs": [],
   "source": []
  },
  {
   "cell_type": "markdown",
   "metadata": {},
   "source": [
    "# 1.3 Underlying <span style=\"color:#30b3d5\">dimensions</span> and <span style=\"color:#30b3d5\">components</span>"
   ]
  },
  {
   "cell_type": "markdown",
   "metadata": {},
   "source": [
    "![](http://stats4dev.com/research/img/Dimension%20and%20componants.png) "
   ]
  },
  {
   "cell_type": "code",
   "execution_count": null,
   "metadata": {
    "collapsed": true
   },
   "outputs": [],
   "source": []
  },
  {
   "cell_type": "markdown",
   "metadata": {},
   "source": [
    "#<span style=\"color:#30b3d5\">Functional form</span>\n",
    "<br>\n",
    "![](http://stats4dev.com/research/img/FunctionalForm.png)\n"
   ]
  },
  {
   "cell_type": "code",
   "execution_count": null,
   "metadata": {
    "collapsed": true
   },
   "outputs": [],
   "source": []
  },
  {
   "cell_type": "markdown",
   "metadata": {},
   "source": [
    "#First results: <span style=\"color:#30b3d5\">descriptive statistics</span> and <span style=\"color:#30b3d5\">correlation matrix</span><br>\n",
    "![](http://stats4dev.com/research/img/StatDes.png)\n",
    "![](http://stats4dev.com/research/img/correlaction%20matrix.png)"
   ]
  },
  {
   "cell_type": "code",
   "execution_count": null,
   "metadata": {
    "collapsed": true
   },
   "outputs": [],
   "source": []
  },
  {
   "cell_type": "markdown",
   "metadata": {},
   "source": [
    "#RCI2.0: First <span style=\"color:#30b3d5\">results</span>"
   ]
  },
  {
   "cell_type": "code",
   "execution_count": 15,
   "metadata": {
    "collapsed": false
   },
   "outputs": [
    {
     "data": {
      "text/html": [
       "<iframe src=\"http://stats4dev.com/research/img/map_rci.html\" scrolling=\"no\"  frameborder=\"0\" width=\"80%\" height=\"475px\"></iframe>"
      ],
      "text/plain": [
       "<IPython.core.display.HTML object>"
      ]
     },
     "execution_count": 15,
     "metadata": {},
     "output_type": "execute_result"
    }
   ],
   "source": [
    "from IPython.display import HTML\n",
    "HTML('''<iframe src=\"http://stats4dev.com/research/img/map_rci.html\" scrolling=\"no\"  frameborder=\"0\" width=\"80%\" height=\"475px\"></iframe>''')"
   ]
  },
  {
   "cell_type": "code",
   "execution_count": null,
   "metadata": {
    "collapsed": true
   },
   "outputs": [],
   "source": []
  },
  {
   "cell_type": "markdown",
   "metadata": {},
   "source": [
    "##RCI2.0: First <span style=\"color:#30b3d5\">results</span>\n",
    "\n",
    "###*Bottom 20 countries, dimensions & scores*\n",
    "<br>\n",
    "![](http://stats4dev.com/research/img/Bottom%2020%20RCI2.0.png)"
   ]
  },
  {
   "cell_type": "code",
   "execution_count": null,
   "metadata": {
    "collapsed": true
   },
   "outputs": [],
   "source": []
  },
  {
   "cell_type": "markdown",
   "metadata": {},
   "source": [
    "###*Top 20 countries, dimensions & scores*\n",
    "<br>\n",
    "![](http://stats4dev.com/research/img/Top20RCI.png)"
   ]
  },
  {
   "cell_type": "code",
   "execution_count": null,
   "metadata": {
    "collapsed": true
   },
   "outputs": [],
   "source": []
  },
  {
   "cell_type": "markdown",
   "metadata": {},
   "source": [
    "###Excluding the <span style=\"color:#30b3d5\">solidarity variable</span> from the Civic Commitment dimension\n",
    "<br>\n",
    "![](http://stats4dev.com/research/img/RCI%20without%20Solidarity.png)"
   ]
  },
  {
   "cell_type": "code",
   "execution_count": null,
   "metadata": {
    "collapsed": true
   },
   "outputs": [],
   "source": []
  },
  {
   "cell_type": "markdown",
   "metadata": {},
   "source": [
    "#RCI2.0: <span style=\"color:#30b3d5\">First Conclusions</span>\n"
   ]
  },
  {
   "cell_type": "markdown",
   "metadata": {},
   "source": [
    "### RCI 2.0 is not conceived as a deprivation measure targetting who is \"relationnaly poor\" \n",
    "\n",
    "###Thus it can be understood as a \"more linear\" version of RCI1.0, which allows eyeballing, beyond the \"cut-offs\"\n",
    "\n",
    "###It relies on a unique database: Gallup World Poll, time and space comparable\n",
    "\n",
    "\n"
   ]
  },
  {
   "cell_type": "markdown",
   "metadata": {},
   "source": [
    "###>>> <span style=\"color:#30b3d5\">Surprising results</span> emerged:\n",
    "\n",
    "###¤ USA score is impressive and question the role of inequality as a major source of social ties breaker\n",
    "###¤ France score is also impressive... not in a good way.. questionning the role of walfare state as social ties maker\n",
    "\n",
    "###>>> <span style=\"color:#30b3d5\">RCI2.0 offers more:</span> It can be decomposed by Income level, Region (Rural vs. urban) and Gender"
   ]
  },
  {
   "cell_type": "code",
   "execution_count": null,
   "metadata": {
    "collapsed": true
   },
   "outputs": [],
   "source": []
  },
  {
   "cell_type": "markdown",
   "metadata": {},
   "source": [
    "#II. Towards a less aggregated indicator \n",
    "\n",
    "###* Relational Capability: <span style=\"color:#30b3d5\"> not only social capital, nor social cohesion </span>\n",
    "###* RCI 2.0, <span style=\"color:#30b3d5\">beyond the cuf-offs</span>\n",
    "###* Time and space <span style=\"color:#30b3d5\">comparable </span>\n",
    "###* But first and foremost: <span style=\"color:#30b3d5\">subsets indicators</span>:\n",
    "\n",
    "       ###¤ RCI by Gender\n",
    "       ###¤ RCI by Urban / Rural\n",
    "       ###¤ RCI by Income: top20% / bottom 20%"
   ]
  },
  {
   "cell_type": "code",
   "execution_count": null,
   "metadata": {
    "collapsed": true
   },
   "outputs": [],
   "source": []
  },
  {
   "cell_type": "markdown",
   "metadata": {},
   "source": [
    "#II.1. Mapping Relational Capability Inequality <span style=\"color:#30b3d5\">by Gender</span>"
   ]
  },
  {
   "cell_type": "code",
   "execution_count": 16,
   "metadata": {
    "collapsed": false
   },
   "outputs": [
    {
     "data": {
      "text/html": [
       "<iframe src=\"http://stats4dev.com/research/img/RCI2.0_Diffgender_map.html\" scrolling=\"no\"  frameborder=\"0\" width=\"80%\" height=\"475px\"></iframe>"
      ],
      "text/plain": [
       "<IPython.core.display.HTML object>"
      ]
     },
     "execution_count": 16,
     "metadata": {},
     "output_type": "execute_result"
    }
   ],
   "source": [
    "from IPython.display import HTML\n",
    "HTML('''<iframe src=\"http://stats4dev.com/research/img/RCI2.0_Diffgender_map.html\" scrolling=\"no\"  frameborder=\"0\" width=\"80%\" height=\"475px\"></iframe>''')"
   ]
  },
  {
   "cell_type": "code",
   "execution_count": null,
   "metadata": {
    "collapsed": true
   },
   "outputs": [],
   "source": []
  },
  {
   "cell_type": "markdown",
   "metadata": {},
   "source": [
    "#Spotting Relational Capability: <span style=\"color:#30b3d5\">Inequality by Gender</span>"
   ]
  },
  {
   "cell_type": "code",
   "execution_count": 18,
   "metadata": {
    "collapsed": false
   },
   "outputs": [
    {
     "data": {
      "text/html": [
       "<iframe src=\"http://stats4dev.com/research/img/RCI%20(rcig%20-gender%20decomposition)%20highest%20diff.html\" scrolling=\"no\"  frameborder=\"0\" width=\"80%\" height=\"475px\"></iframe>\n",
       "<br><iframe src=\"http://stats4dev.com/research/img/RCI%20(rcig%20-gender%20decomposition)%20smallest%20diff.html\" scrolling=\"no\"  frameborder=\"0\" width=\"80%\" height=\"475px\"></iframe>"
      ],
      "text/plain": [
       "<IPython.core.display.HTML object>"
      ]
     },
     "execution_count": 18,
     "metadata": {},
     "output_type": "execute_result"
    }
   ],
   "source": [
    "from IPython.display import HTML\n",
    "HTML('''<iframe src=\"http://stats4dev.com/research/img/RCI%20(rcig%20-gender%20decomposition)%20highest%20diff.html\" scrolling=\"no\"  frameborder=\"0\" width=\"80%\" height=\"475px\"></iframe>\n",
    "<br><iframe src=\"http://stats4dev.com/research/img/RCI%20(rcig%20-gender%20decomposition)%20smallest%20diff.html\" scrolling=\"no\"  frameborder=\"0\" width=\"80%\" height=\"475px\"></iframe>''')"
   ]
  },
  {
   "cell_type": "code",
   "execution_count": null,
   "metadata": {
    "collapsed": true
   },
   "outputs": [],
   "source": []
  },
  {
   "cell_type": "markdown",
   "metadata": {},
   "source": [
    "#RCI2.0 <span style=\"color:#30b3d5\">Cumulative Distribution Function</span>"
   ]
  },
  {
   "cell_type": "code",
   "execution_count": 20,
   "metadata": {
    "collapsed": false
   },
   "outputs": [
    {
     "data": {
      "text/html": [
       "<iframe src=\"http://stats4dev.com/research/img/Cumulative%20Distribution%20Function/CDF%20RCI%20gender.html\" scrolling=\"no\"  frameborder=\"0\" width=\"80%\" height=\"475px\"></iframe>"
      ],
      "text/plain": [
       "<IPython.core.display.HTML object>"
      ]
     },
     "execution_count": 20,
     "metadata": {},
     "output_type": "execute_result"
    }
   ],
   "source": [
    "from IPython.display import HTML\n",
    "HTML('''<iframe src=\"http://stats4dev.com/research/img/Cumulative%20Distribution%20Function/CDF%20RCI%20gender.html\" scrolling=\"no\"  frameborder=\"0\" width=\"80%\" height=\"475px\"></iframe>''')"
   ]
  },
  {
   "cell_type": "code",
   "execution_count": null,
   "metadata": {
    "collapsed": true
   },
   "outputs": [],
   "source": []
  },
  {
   "cell_type": "markdown",
   "metadata": {},
   "source": [
    "#Mapping Relational Capability: <span style=\"color:#30b3d5\">Inequality by Region</span>"
   ]
  },
  {
   "cell_type": "code",
   "execution_count": 21,
   "metadata": {
    "collapsed": false
   },
   "outputs": [
    {
     "data": {
      "text/html": [
       "<iframe src=\"http://stats4dev.com/research/img/RCI2.0_diff_UrbanRural.html\" scrolling=\"no\"  frameborder=\"0\" width=\"80%\" height=\"475px\"></iframe>"
      ],
      "text/plain": [
       "<IPython.core.display.HTML object>"
      ]
     },
     "execution_count": 21,
     "metadata": {},
     "output_type": "execute_result"
    }
   ],
   "source": [
    "from IPython.display import HTML\n",
    "HTML('''<iframe src=\"http://stats4dev.com/research/img/RCI2.0_diff_UrbanRural.html\" scrolling=\"no\"  frameborder=\"0\" width=\"80%\" height=\"475px\"></iframe>''')"
   ]
  },
  {
   "cell_type": "code",
   "execution_count": null,
   "metadata": {
    "collapsed": true
   },
   "outputs": [],
   "source": []
  },
  {
   "cell_type": "markdown",
   "metadata": {},
   "source": [
    "#Spotting Relational Capability: <span style=\"color:#30b3d5\">Inequality by Region</span>"
   ]
  },
  {
   "cell_type": "code",
   "execution_count": 22,
   "metadata": {
    "collapsed": false
   },
   "outputs": [
    {
     "data": {
      "text/html": [
       "<iframe src=\"http://stats4dev.com/research/img/RCI%20(rcig%20-Urban%20vs%20rural%20decomposition)%20highest%20diff.html\" scrolling=\"no\"  frameborder=\"0\" width=\"80%\" height=\"475px\"></iframe>\n",
       "<br><iframe src=\"http://stats4dev.com/research/img/RCI%20(rcig%20-Urban%20vs%20rural%20decomposition)%20smallest%20diff.html\" scrolling=\"no\"  frameborder=\"0\" width=\"80%\" height=\"475px\"></iframe>"
      ],
      "text/plain": [
       "<IPython.core.display.HTML object>"
      ]
     },
     "execution_count": 22,
     "metadata": {},
     "output_type": "execute_result"
    }
   ],
   "source": [
    "from IPython.display import HTML\n",
    "HTML('''<iframe src=\"http://stats4dev.com/research/img/RCI%20(rcig%20-Urban%20vs%20rural%20decomposition)%20highest%20diff.html\" scrolling=\"no\"  frameborder=\"0\" width=\"80%\" height=\"475px\"></iframe>\n",
    "<br><iframe src=\"http://stats4dev.com/research/img/RCI%20(rcig%20-Urban%20vs%20rural%20decomposition)%20smallest%20diff.html\" scrolling=\"no\"  frameborder=\"0\" width=\"80%\" height=\"475px\"></iframe>''')"
   ]
  },
  {
   "cell_type": "code",
   "execution_count": null,
   "metadata": {
    "collapsed": true
   },
   "outputs": [],
   "source": []
  },
  {
   "cell_type": "markdown",
   "metadata": {},
   "source": [
    "#RCI2.0 <span style=\"color:#30b3d5\">Cumulative Distribution Function</span>"
   ]
  },
  {
   "cell_type": "code",
   "execution_count": 23,
   "metadata": {
    "collapsed": false
   },
   "outputs": [
    {
     "data": {
      "text/html": [
       "<iframe src=\"http://stats4dev.com/research/img/Cumulative%20Distribution%20Function/CDF%20RCI%20Rural%20urban.html\" scrolling=\"no\"  frameborder=\"0\" width=\"80%\" height=\"475px\"></iframe>"
      ],
      "text/plain": [
       "<IPython.core.display.HTML object>"
      ]
     },
     "execution_count": 23,
     "metadata": {},
     "output_type": "execute_result"
    }
   ],
   "source": [
    "from IPython.display import HTML\n",
    "HTML('''<iframe src=\"http://stats4dev.com/research/img/Cumulative%20Distribution%20Function/CDF%20RCI%20Rural%20urban.html\" scrolling=\"no\"  frameborder=\"0\" width=\"80%\" height=\"475px\"></iframe>''')"
   ]
  },
  {
   "cell_type": "code",
   "execution_count": null,
   "metadata": {
    "collapsed": true
   },
   "outputs": [],
   "source": []
  },
  {
   "cell_type": "markdown",
   "metadata": {},
   "source": [
    "#Mapping Relational Capability <span style=\"color:#30b3d5\">Inequality by Income (top20% vs bot.20%)</span>"
   ]
  },
  {
   "cell_type": "code",
   "execution_count": 24,
   "metadata": {
    "collapsed": false
   },
   "outputs": [
    {
     "data": {
      "text/html": [
       "<iframe src=\"http://stats4dev.com/research/img/RCI2.0_diff_Income.html\" scrolling=\"no\"  frameborder=\"0\" width=\"80%\" height=\"475px\"></iframe>"
      ],
      "text/plain": [
       "<IPython.core.display.HTML object>"
      ]
     },
     "execution_count": 24,
     "metadata": {},
     "output_type": "execute_result"
    }
   ],
   "source": [
    "from IPython.display import HTML\n",
    "HTML('''<iframe src=\"http://stats4dev.com/research/img/RCI2.0_diff_Income.html\" scrolling=\"no\"  frameborder=\"0\" width=\"80%\" height=\"475px\"></iframe>''')"
   ]
  },
  {
   "cell_type": "code",
   "execution_count": null,
   "metadata": {
    "collapsed": true
   },
   "outputs": [],
   "source": []
  },
  {
   "cell_type": "markdown",
   "metadata": {},
   "source": [
    "#Spotting Relational Capability:<span style=\"color:#30b3d5\"> Inequality by Income (top20% vs bot.20%)</span>"
   ]
  },
  {
   "cell_type": "code",
   "execution_count": 25,
   "metadata": {
    "collapsed": false
   },
   "outputs": [
    {
     "data": {
      "text/html": [
       "<iframe src=\"http://stats4dev.com/research/img/RCI%20rcig%20-Income%20highest%20diff.html\" scrolling=\"no\"  frameborder=\"0\" width=\"80%\" height=\"475px\"></iframe>\n",
       "<br><iframe src=\"http://stats4dev.com/research/img/RCI%20rcig%20-Income%20smallest%20diff.html\" scrolling=\"no\"  frameborder=\"0\" width=\"80%\" height=\"475px\"></iframe>"
      ],
      "text/plain": [
       "<IPython.core.display.HTML object>"
      ]
     },
     "execution_count": 25,
     "metadata": {},
     "output_type": "execute_result"
    }
   ],
   "source": [
    "from IPython.display import HTML\n",
    "HTML('''<iframe src=\"http://stats4dev.com/research/img/RCI%20rcig%20-Income%20highest%20diff.html\" scrolling=\"no\"  frameborder=\"0\" width=\"80%\" height=\"475px\"></iframe>\n",
    "<br><iframe src=\"http://stats4dev.com/research/img/RCI%20rcig%20-Income%20smallest%20diff.html\" scrolling=\"no\"  frameborder=\"0\" width=\"80%\" height=\"475px\"></iframe>''')"
   ]
  },
  {
   "cell_type": "code",
   "execution_count": null,
   "metadata": {
    "collapsed": true
   },
   "outputs": [],
   "source": []
  },
  {
   "cell_type": "markdown",
   "metadata": {},
   "source": [
    "#RCI2.0<span style=\"color:#30b3d5\"> Cumulative Distribution Function</span>"
   ]
  },
  {
   "cell_type": "code",
   "execution_count": 26,
   "metadata": {
    "collapsed": false
   },
   "outputs": [
    {
     "data": {
      "text/html": [
       "<iframe src=\"http://stats4dev.com/research/img/Cumulative%20Distribution%20Function/CDF%20RCI%20Income.html\" scrolling=\"no\"  frameborder=\"0\" width=\"80%\" height=\"475px\"></iframe>"
      ],
      "text/plain": [
       "<IPython.core.display.HTML object>"
      ]
     },
     "execution_count": 26,
     "metadata": {},
     "output_type": "execute_result"
    }
   ],
   "source": [
    "from IPython.display import HTML\n",
    "HTML('''<iframe src=\"http://stats4dev.com/research/img/Cumulative%20Distribution%20Function/CDF%20RCI%20Income.html\" scrolling=\"no\"  frameborder=\"0\" width=\"80%\" height=\"475px\"></iframe>''')"
   ]
  },
  {
   "cell_type": "code",
   "execution_count": null,
   "metadata": {
    "collapsed": true
   },
   "outputs": [],
   "source": []
  },
  {
   "cell_type": "markdown",
   "metadata": {},
   "source": [
    "#RCI2.0: <span style=\"color:#30b3d5\">conluding remarks</span>\n",
    "\n",
    "###* RCI 2.0 <span style=\"color:#30b3d5\">no longer relies on arbitrary cut-offs-</span> as theoretically grounded cut-offs are ultimattely hard to define\n",
    "###* Relying upon a <span style=\"color:#30b3d5\">consistent database cross-country and over time comparable</span>\n",
    "###* RCI 2.0 - reflection of the outcomes of key developmental debates \n",
    "###* However, much work remains to analyse such a fruitful information. \n",
    "###* Some of our first raw findings question our intuition. "
   ]
  }
 ],
 "metadata": {
  "kernelspec": {
   "display_name": "Python 3",
   "language": "python",
   "name": "python3"
  },
  "language_info": {
   "codemirror_mode": {
    "name": "ipython",
    "version": 3
   },
   "file_extension": ".py",
   "mimetype": "text/x-python",
   "name": "python",
   "nbconvert_exporter": "python",
   "pygments_lexer": "ipython3",
   "version": "3.4.2"
  }
 },
 "nbformat": 4,
 "nbformat_minor": 0
}
